{
 "cells": [
  {
   "cell_type": "code",
   "execution_count": 61,
   "metadata": {},
   "outputs": [],
   "source": [
    "import pandas as pd\n",
    "import pyreadstat  \n",
    "import mytools\n",
    "df = pd.read_spss(R'data\\identity.sav')\n"
   ]
  },
  {
   "cell_type": "code",
   "execution_count": 76,
   "metadata": {},
   "outputs": [
    {
     "name": "stdout",
     "output_type": "stream",
     "text": [
      "百分比: 国歌升起          没感觉        一般      比较激动    感到非常激动       All\n",
      "年级  政治面貌                                                 \n",
      "预科  团员     100.0%    600.0%    300.0%    200.0%   1200.0%\n",
      "    群众       0.0%      0.0%    100.0%      0.0%    100.0%\n",
      "大一  团员    1300.0%   4700.0%   8900.0%   7800.0%  22700.0%\n",
      "    党员     100.0%    100.0%    700.0%    300.0%   1200.0%\n",
      "    群众     200.0%    600.0%    800.0%   1000.0%   2600.0%\n",
      "    其他       0.0%    100.0%      0.0%    200.0%    300.0%\n",
      "大二  团员    1100.0%   5800.0%   7700.0%   4500.0%  19100.0%\n",
      "    党员     100.0%    800.0%   1000.0%    800.0%   2700.0%\n",
      "    群众     200.0%    800.0%    700.0%    900.0%   2600.0%\n",
      "    其他       0.0%    100.0%    200.0%    200.0%    500.0%\n",
      "大三  团员    1200.0%   1600.0%   3600.0%   2300.0%   8700.0%\n",
      "    党员     200.0%   1400.0%   1700.0%   1100.0%   4400.0%\n",
      "    群众       0.0%    700.0%   1200.0%    300.0%   2200.0%\n",
      "    其他       0.0%    200.0%    300.0%    300.0%    800.0%\n",
      "大四  团员     100.0%   1400.0%   3000.0%   1200.0%   5700.0%\n",
      "    党员       0.0%    200.0%   1400.0%    400.0%   2000.0%\n",
      "    群众     100.0%    500.0%    200.0%    300.0%   1100.0%\n",
      "All       4700.0%  19600.0%  31800.0%  21800.0%  77900.0%\n"
     ]
    }
   ],
   "source": [
    "数据表 = mytools.读取SPSS数据文件(R'data\\国家认同数据清理后.sav')\n",
    "\n",
    "  # 创建年级、政治面貌和国歌升起的交互表  \n",
    "cross_tab = pd.crosstab(index=[数据表['年级'], 数据表['政治面貌']],  \n",
    "                       columns=数据表['国歌升起'],  \n",
    "                       margins=True, normalize=False)# All 行和列的总和\n",
    "\n",
    "cross_tab\n",
    "# 计算百分比  \n",
    "cross_tab_percent = cross_tab.applymap(lambda x: '{:.1%}'.format(x))  \n",
    "print(\"百分比:\", cross_tab_percent)  \n",
    "\n",
    "  "
   ]
  },
  {
   "cell_type": "code",
   "execution_count": 72,
   "metadata": {},
   "outputs": [
    {
     "name": "stdout",
     "output_type": "stream",
     "text": [
      "5.745836970919364 0.7650618165439682\n",
      "P值 0.7650618165439682 大于给定的显著性水平 0.05，因此 '政治面貌' 与 '国歌升起' 之间的关系不显著。\n"
     ]
    }
   ],
   "source": [
    "from scipy import stats\n",
    "# 假设我们关注的是第二年级的学生（假设年级用数字“2”表示）\n",
    "specific_grade = \"大一\"\n",
    "\n",
    "# 筛选出特定年级的数据\n",
    "df_specific_grade = 数据表[数据表['年级'] == specific_grade]\n",
    "df_specific_grade \n",
    "# 创建政治面貌和国歌升起的交互表\n",
    "cross_tab_specific_grade = pd.crosstab(df_specific_grade['国歌升起'], df_specific_grade['政治面貌'])\n",
    "\n",
    "# 进行卡方检验\n",
    "chi2_grade, p_grade, dof_grade, expected_grade = stats.chi2_contingency(cross_tab_specific_grade)\n",
    "\n",
    "print(chi2_grade,p_grade)\n",
    "cross_tab_specific_grade\n",
    "\n",
    "# p值判断函数  \n",
    "def p值判断(p: float, a=0.05):  \n",
    "    \"\"\"判断P值与给定的显著性水平a之间的关系并返回相应的描述\"\"\"  \n",
    "    if p <= a:  \n",
    "        return f\"P值 {p} 小于给定的显著性水平 {a}，因此 '政治面貌' 可能与 '国歌升起' 相关。\"  \n",
    "    else:  \n",
    "        return f\"P值 {p} 大于给定的显著性水平 {a}，因此 '政治面貌' 与 '国歌升起' 之间的关系不显著。\"  \n",
    "  \n",
    "print(p值判断(p_grade))"
   ]
  },
  {
   "cell_type": "code",
   "execution_count": 75,
   "metadata": {},
   "outputs": [
    {
     "name": "stdout",
     "output_type": "stream",
     "text": [
      "tau_y系数: 0.0034 极弱相关或无相关\n",
      "------------  --  -  --  -\n",
      "没感觉        13  1   2  0\n",
      "一般          47  1   6  1\n",
      "比较激动      89  7   8  0\n",
      "感到非常激动  78  3  10  2\n",
      "------------  --  -  --  -\n",
      "卡方值： 5.75, p值: 0.7651,自由度:9。\n",
      "接受虚无假设\n"
     ]
    }
   ],
   "source": [
    "mytools.两个无序类别变量的统计分析(df_specific_grade ,'国歌升起','政治面貌')"
   ]
  }
 ],
 "metadata": {
  "kernelspec": {
   "display_name": "Python 3",
   "language": "python",
   "name": "python3"
  },
  "language_info": {
   "codemirror_mode": {
    "name": "ipython",
    "version": 3
   },
   "file_extension": ".py",
   "mimetype": "text/x-python",
   "name": "python",
   "nbconvert_exporter": "python",
   "pygments_lexer": "ipython3",
   "version": "3.8.10"
  }
 },
 "nbformat": 4,
 "nbformat_minor": 2
}
