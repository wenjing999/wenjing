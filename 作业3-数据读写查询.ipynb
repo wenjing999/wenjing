{
 "cells": [
  {
   "cell_type": "code",
   "execution_count": 2,
   "metadata": {},
   "outputs": [],
   "source": [
    "#任务1: csv格式数据的读写查询\n",
    "\n",
    "\n",
    "import pandas as pd"
   ]
  },
  {
   "cell_type": "code",
   "execution_count": 3,
   "metadata": {},
   "outputs": [],
   "source": [
    "列名列表 = ['姓名','学号','Github仓库地址']\n",
    "df1 = pd.read_csv(R'data\\课程第一次作业收集_提交统计.csv',encoding='GBK',usecols=列名列表)"
   ]
  },
  {
   "cell_type": "code",
   "execution_count": 4,
   "metadata": {},
   "outputs": [],
   "source": [
    "df1.to_csv('output/csv保存练习.csv', index = False)"
   ]
  },
  {
   "cell_type": "code",
   "execution_count": 6,
   "metadata": {},
   "outputs": [
    {
     "ename": "FileNotFoundError",
     "evalue": "[Errno 2] No such file or directory: 'data\\\\000_《统计与数据分析》课程第一次作业收集_提交统计.xlsx'",
     "output_type": "error",
     "traceback": [
      "\u001b[1;31m---------------------------------------------------------------------------\u001b[0m",
      "\u001b[1;31mFileNotFoundError\u001b[0m                         Traceback (most recent call last)",
      "\u001b[1;32mc:\\Users\\Lenovo\\Desktop\\wenjing\\作业3-数据读写查询.ipynb 单元格 4\u001b[0m line \u001b[0;36m2\n\u001b[0;32m      <a href='vscode-notebook-cell:/c%3A/Users/Lenovo/Desktop/wenjing/%E4%BD%9C%E4%B8%9A3-%E6%95%B0%E6%8D%AE%E8%AF%BB%E5%86%99%E6%9F%A5%E8%AF%A2.ipynb#W3sZmlsZQ%3D%3D?line=0'>1</a>\u001b[0m \u001b[39m#任务2: xls格式数据的读写查询\u001b[39;00m\n\u001b[1;32m----> <a href='vscode-notebook-cell:/c%3A/Users/Lenovo/Desktop/wenjing/%E4%BD%9C%E4%B8%9A3-%E6%95%B0%E6%8D%AE%E8%AF%BB%E5%86%99%E6%9F%A5%E8%AF%A2.ipynb#W3sZmlsZQ%3D%3D?line=1'>2</a>\u001b[0m df2 \u001b[39m=\u001b[39m pd\u001b[39m.\u001b[39;49mread_excel(\u001b[39mR\u001b[39;49m\u001b[39m'\u001b[39;49m\u001b[39mdata\u001b[39;49m\u001b[39m\\\u001b[39;49m\u001b[39m000_《统计与数据分析》课程第一次作业收集_提交统计.xlsx\u001b[39;49m\u001b[39m'\u001b[39;49m,\n\u001b[0;32m      <a href='vscode-notebook-cell:/c%3A/Users/Lenovo/Desktop/wenjing/%E4%BD%9C%E4%B8%9A3-%E6%95%B0%E6%8D%AE%E8%AF%BB%E5%86%99%E6%9F%A5%E8%AF%A2.ipynb#W3sZmlsZQ%3D%3D?line=2'>3</a>\u001b[0m sheet_name\u001b[39m=\u001b[39;49m\u001b[39m'\u001b[39;49m\u001b[39m提交清单\u001b[39;49m\u001b[39m'\u001b[39;49m,usecols\u001b[39m=\u001b[39;49m[\u001b[39m'\u001b[39;49m\u001b[39m姓名\u001b[39;49m\u001b[39m'\u001b[39;49m,\u001b[39m'\u001b[39;49m\u001b[39m学号\u001b[39;49m\u001b[39m'\u001b[39;49m,\u001b[39m'\u001b[39;49m\u001b[39mGithub仓库地址\u001b[39;49m\u001b[39m'\u001b[39;49m])\n",
      "File \u001b[1;32mc:\\Users\\Lenovo\\AppData\\Local\\Programs\\Python\\Python38\\lib\\site-packages\\pandas\\io\\excel\\_base.py:478\u001b[0m, in \u001b[0;36mread_excel\u001b[1;34m(io, sheet_name, header, names, index_col, usecols, dtype, engine, converters, true_values, false_values, skiprows, nrows, na_values, keep_default_na, na_filter, verbose, parse_dates, date_parser, date_format, thousands, decimal, comment, skipfooter, storage_options, dtype_backend)\u001b[0m\n\u001b[0;32m    476\u001b[0m \u001b[39mif\u001b[39;00m \u001b[39mnot\u001b[39;00m \u001b[39misinstance\u001b[39m(io, ExcelFile):\n\u001b[0;32m    477\u001b[0m     should_close \u001b[39m=\u001b[39m \u001b[39mTrue\u001b[39;00m\n\u001b[1;32m--> 478\u001b[0m     io \u001b[39m=\u001b[39m ExcelFile(io, storage_options\u001b[39m=\u001b[39;49mstorage_options, engine\u001b[39m=\u001b[39;49mengine)\n\u001b[0;32m    479\u001b[0m \u001b[39melif\u001b[39;00m engine \u001b[39mand\u001b[39;00m engine \u001b[39m!=\u001b[39m io\u001b[39m.\u001b[39mengine:\n\u001b[0;32m    480\u001b[0m     \u001b[39mraise\u001b[39;00m \u001b[39mValueError\u001b[39;00m(\n\u001b[0;32m    481\u001b[0m         \u001b[39m\"\u001b[39m\u001b[39mEngine should not be specified when passing \u001b[39m\u001b[39m\"\u001b[39m\n\u001b[0;32m    482\u001b[0m         \u001b[39m\"\u001b[39m\u001b[39man ExcelFile - ExcelFile already has the engine set\u001b[39m\u001b[39m\"\u001b[39m\n\u001b[0;32m    483\u001b[0m     )\n",
      "File \u001b[1;32mc:\\Users\\Lenovo\\AppData\\Local\\Programs\\Python\\Python38\\lib\\site-packages\\pandas\\io\\excel\\_base.py:1496\u001b[0m, in \u001b[0;36mExcelFile.__init__\u001b[1;34m(self, path_or_buffer, engine, storage_options)\u001b[0m\n\u001b[0;32m   1494\u001b[0m     ext \u001b[39m=\u001b[39m \u001b[39m\"\u001b[39m\u001b[39mxls\u001b[39m\u001b[39m\"\u001b[39m\n\u001b[0;32m   1495\u001b[0m \u001b[39melse\u001b[39;00m:\n\u001b[1;32m-> 1496\u001b[0m     ext \u001b[39m=\u001b[39m inspect_excel_format(\n\u001b[0;32m   1497\u001b[0m         content_or_path\u001b[39m=\u001b[39;49mpath_or_buffer, storage_options\u001b[39m=\u001b[39;49mstorage_options\n\u001b[0;32m   1498\u001b[0m     )\n\u001b[0;32m   1499\u001b[0m     \u001b[39mif\u001b[39;00m ext \u001b[39mis\u001b[39;00m \u001b[39mNone\u001b[39;00m:\n\u001b[0;32m   1500\u001b[0m         \u001b[39mraise\u001b[39;00m \u001b[39mValueError\u001b[39;00m(\n\u001b[0;32m   1501\u001b[0m             \u001b[39m\"\u001b[39m\u001b[39mExcel file format cannot be determined, you must specify \u001b[39m\u001b[39m\"\u001b[39m\n\u001b[0;32m   1502\u001b[0m             \u001b[39m\"\u001b[39m\u001b[39man engine manually.\u001b[39m\u001b[39m\"\u001b[39m\n\u001b[0;32m   1503\u001b[0m         )\n",
      "File \u001b[1;32mc:\\Users\\Lenovo\\AppData\\Local\\Programs\\Python\\Python38\\lib\\site-packages\\pandas\\io\\excel\\_base.py:1371\u001b[0m, in \u001b[0;36minspect_excel_format\u001b[1;34m(content_or_path, storage_options)\u001b[0m\n\u001b[0;32m   1368\u001b[0m \u001b[39mif\u001b[39;00m \u001b[39misinstance\u001b[39m(content_or_path, \u001b[39mbytes\u001b[39m):\n\u001b[0;32m   1369\u001b[0m     content_or_path \u001b[39m=\u001b[39m BytesIO(content_or_path)\n\u001b[1;32m-> 1371\u001b[0m \u001b[39mwith\u001b[39;00m get_handle(\n\u001b[0;32m   1372\u001b[0m     content_or_path, \u001b[39m\"\u001b[39;49m\u001b[39mrb\u001b[39;49m\u001b[39m\"\u001b[39;49m, storage_options\u001b[39m=\u001b[39;49mstorage_options, is_text\u001b[39m=\u001b[39;49m\u001b[39mFalse\u001b[39;49;00m\n\u001b[0;32m   1373\u001b[0m ) \u001b[39mas\u001b[39;00m handle:\n\u001b[0;32m   1374\u001b[0m     stream \u001b[39m=\u001b[39m handle\u001b[39m.\u001b[39mhandle\n\u001b[0;32m   1375\u001b[0m     stream\u001b[39m.\u001b[39mseek(\u001b[39m0\u001b[39m)\n",
      "File \u001b[1;32mc:\\Users\\Lenovo\\AppData\\Local\\Programs\\Python\\Python38\\lib\\site-packages\\pandas\\io\\common.py:868\u001b[0m, in \u001b[0;36mget_handle\u001b[1;34m(path_or_buf, mode, encoding, compression, memory_map, is_text, errors, storage_options)\u001b[0m\n\u001b[0;32m    859\u001b[0m         handle \u001b[39m=\u001b[39m \u001b[39mopen\u001b[39m(\n\u001b[0;32m    860\u001b[0m             handle,\n\u001b[0;32m    861\u001b[0m             ioargs\u001b[39m.\u001b[39mmode,\n\u001b[1;32m   (...)\u001b[0m\n\u001b[0;32m    864\u001b[0m             newline\u001b[39m=\u001b[39m\u001b[39m\"\u001b[39m\u001b[39m\"\u001b[39m,\n\u001b[0;32m    865\u001b[0m         )\n\u001b[0;32m    866\u001b[0m     \u001b[39melse\u001b[39;00m:\n\u001b[0;32m    867\u001b[0m         \u001b[39m# Binary mode\u001b[39;00m\n\u001b[1;32m--> 868\u001b[0m         handle \u001b[39m=\u001b[39m \u001b[39mopen\u001b[39;49m(handle, ioargs\u001b[39m.\u001b[39;49mmode)\n\u001b[0;32m    869\u001b[0m     handles\u001b[39m.\u001b[39mappend(handle)\n\u001b[0;32m    871\u001b[0m \u001b[39m# Convert BytesIO or file objects passed with an encoding\u001b[39;00m\n",
      "\u001b[1;31mFileNotFoundError\u001b[0m: [Errno 2] No such file or directory: 'data\\\\000_《统计与数据分析》课程第一次作业收集_提交统计.xlsx'"
     ]
    }
   ],
   "source": [
    "#任务2: xls格式数据的读写查询\n",
    "df2 = pd.read_excel(R'data\\000_《统计与数据分析》课程第一次作业收集_提交统计.xlsx',\n",
    "sheet_name='提交清单',usecols=['姓名','学号','Github仓库地址'])\n",
    "                           "
   ]
  },
  {
   "cell_type": "code",
   "execution_count": 12,
   "metadata": {},
   "outputs": [
    {
     "ename": "NameError",
     "evalue": "name 'df2' is not defined",
     "output_type": "error",
     "traceback": [
      "\u001b[1;31m---------------------------------------------------------------------------\u001b[0m",
      "\u001b[1;31mNameError\u001b[0m                                 Traceback (most recent call last)",
      "\u001b[1;32mc:\\Users\\Lenovo\\Desktop\\wenjing\\作业3-数据读写查询.ipynb 单元格 5\u001b[0m line \u001b[0;36m1\n\u001b[1;32m----> <a href='vscode-notebook-cell:/c%3A/Users/Lenovo/Desktop/wenjing/%E4%BD%9C%E4%B8%9A3-%E6%95%B0%E6%8D%AE%E8%AF%BB%E5%86%99%E6%9F%A5%E8%AF%A2.ipynb#W4sZmlsZQ%3D%3D?line=0'>1</a>\u001b[0m df2\u001b[39m.\u001b[39mto_excel(\u001b[39mR\u001b[39m\u001b[39m'\u001b[39m\u001b[39moutput/excel保存练习.xlsx\u001b[39m\u001b[39m'\u001b[39m,index\u001b[39m=\u001b[39m\u001b[39mFalse\u001b[39;00m)\n",
      "\u001b[1;31mNameError\u001b[0m: name 'df2' is not defined"
     ]
    }
   ],
   "source": [
    "df2.to_excel(R'output/excel保存练习.xlsx',index=False)"
   ]
  },
  {
   "cell_type": "code",
   "execution_count": 7,
   "metadata": {},
   "outputs": [],
   "source": [
    "#任务3: sav格式数据的读写查询\n",
    "df3 = pd.read_spss(R'data\\identity.sav')"
   ]
  },
  {
   "cell_type": "code",
   "execution_count": 8,
   "metadata": {},
   "outputs": [],
   "source": [
    "import pyreadstat"
   ]
  },
  {
   "cell_type": "code",
   "execution_count": 9,
   "metadata": {},
   "outputs": [],
   "source": [
    "d = pyreadstat.read_sav(R'data\\identity.sav')"
   ]
  },
  {
   "cell_type": "code",
   "execution_count": 10,
   "metadata": {},
   "outputs": [
    {
     "data": {
      "text/plain": [
       "[<Page:1>,\n",
       " <Page:2>,\n",
       " <Page:3>,\n",
       " <Page:4>,\n",
       " <Page:5>,\n",
       " <Page:6>,\n",
       " <Page:7>,\n",
       " <Page:8>,\n",
       " <Page:9>,\n",
       " <Page:10>,\n",
       " <Page:11>,\n",
       " <Page:12>,\n",
       " <Page:13>,\n",
       " <Page:14>,\n",
       " <Page:15>,\n",
       " <Page:16>,\n",
       " <Page:17>,\n",
       " <Page:18>,\n",
       " <Page:19>,\n",
       " <Page:20>,\n",
       " <Page:21>,\n",
       " <Page:22>,\n",
       " <Page:23>,\n",
       " <Page:24>,\n",
       " <Page:25>,\n",
       " <Page:26>,\n",
       " <Page:27>,\n",
       " <Page:28>,\n",
       " <Page:29>,\n",
       " <Page:30>,\n",
       " <Page:31>,\n",
       " <Page:32>,\n",
       " <Page:33>,\n",
       " <Page:34>,\n",
       " <Page:35>,\n",
       " <Page:36>,\n",
       " <Page:37>,\n",
       " <Page:38>,\n",
       " <Page:39>,\n",
       " <Page:40>,\n",
       " <Page:41>,\n",
       " <Page:42>,\n",
       " <Page:43>,\n",
       " <Page:44>,\n",
       " <Page:45>,\n",
       " <Page:46>,\n",
       " <Page:47>,\n",
       " <Page:48>,\n",
       " <Page:49>,\n",
       " <Page:50>,\n",
       " <Page:51>,\n",
       " <Page:52>,\n",
       " <Page:53>,\n",
       " <Page:54>,\n",
       " <Page:55>,\n",
       " <Page:56>,\n",
       " <Page:57>,\n",
       " <Page:58>,\n",
       " <Page:59>,\n",
       " <Page:60>,\n",
       " <Page:61>,\n",
       " <Page:62>,\n",
       " <Page:63>,\n",
       " <Page:64>,\n",
       " <Page:65>,\n",
       " <Page:66>,\n",
       " <Page:67>,\n",
       " <Page:68>,\n",
       " <Page:69>,\n",
       " <Page:70>,\n",
       " <Page:71>,\n",
       " <Page:72>,\n",
       " <Page:73>,\n",
       " <Page:74>,\n",
       " <Page:75>,\n",
       " <Page:76>,\n",
       " <Page:77>,\n",
       " <Page:78>,\n",
       " <Page:79>,\n",
       " <Page:80>,\n",
       " <Page:81>,\n",
       " <Page:82>,\n",
       " <Page:83>,\n",
       " <Page:84>,\n",
       " <Page:85>,\n",
       " <Page:86>,\n",
       " <Page:87>,\n",
       " <Page:88>,\n",
       " <Page:89>,\n",
       " <Page:90>,\n",
       " <Page:91>,\n",
       " <Page:92>]"
      ]
     },
     "execution_count": 10,
     "metadata": {},
     "output_type": "execute_result"
    }
   ],
   "source": [
    "#任务4: pdf格式数据的读写查询\n",
    "import pdfplumber\n",
    "pdf = pdfplumber.open(R'data\\高考核心词汇1278.pdf')\n",
    "pdf.pages\n"
   ]
  },
  {
   "cell_type": "code",
   "execution_count": 11,
   "metadata": {},
   "outputs": [],
   "source": [
    "#初始化列表\n",
    "table = []\n",
    "#从第一页循环到最后一页\n",
    "for i in range(len(pdf.pages) - 1):\n",
    "    # 获取第i页\n",
    "    page = pdf.pages[i + 1]\n",
    "    # page.extract_table()作用是提取当前页面page中的表格\n",
    "    # table.extend的作用是将元素增加到列表table中\n",
    "    table.extend(page.extract_table())"
   ]
  }
 ],
 "metadata": {
  "kernelspec": {
   "display_name": "Python 3",
   "language": "python",
   "name": "python3"
  },
  "language_info": {
   "codemirror_mode": {
    "name": "ipython",
    "version": 3
   },
   "file_extension": ".py",
   "mimetype": "text/x-python",
   "name": "python",
   "nbconvert_exporter": "python",
   "pygments_lexer": "ipython3",
   "version": "3.8.10"
  },
  "orig_nbformat": 4
 },
 "nbformat": 4,
 "nbformat_minor": 2
}
