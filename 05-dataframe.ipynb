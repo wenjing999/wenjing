{
 "cells": [
  {
   "cell_type": "code",
   "execution_count": 5,
   "metadata": {},
   "outputs": [],
   "source": [
    "import pandas as pd\n",
    "import numpy as np"
   ]
  },
  {
   "cell_type": "code",
   "execution_count": 6,
   "metadata": {},
   "outputs": [],
   "source": [
    "# 任务1: 将列表转化为Numpy数组\n",
    "\n",
    "data0 = [2, 4, 6.5, 8]\n",
    "\n",
    "arr0 = np.array(data0)"
   ]
  },
  {
   "cell_type": "code",
   "execution_count": 7,
   "metadata": {},
   "outputs": [],
   "source": [
    "# 任务2: 新建pandas中的series数据类型,打印出其大小、索引值、值"
   ]
  },
  {
   "cell_type": "code",
   "execution_count": 8,
   "metadata": {},
   "outputs": [],
   "source": [
    "# pandas中的Series数据类型\n",
    "\n",
    "s = pd.Series(data=[100, 'a' ,{'dic1': 5 }],\n",
    "                  index=pd.Index(['id1',20,'third'],name='my_idx'),\n",
    "\n",
    "                  dtype='object',\n",
    "\n",
    "                  name='my_name')"
   ]
  },
  {
   "cell_type": "code",
   "execution_count": 9,
   "metadata": {},
   "outputs": [],
   "source": [
    "s2 = pd.Series([\"1\",\"2\",\"3\",\"4\"])"
   ]
  },
  {
   "cell_type": "code",
   "execution_count": 10,
   "metadata": {},
   "outputs": [
    {
     "data": {
      "text/plain": [
       "array([0, 1, 2, 3], dtype=int64)"
      ]
     },
     "execution_count": 10,
     "metadata": {},
     "output_type": "execute_result"
    }
   ],
   "source": [
    "s2.index.values"
   ]
  },
  {
   "cell_type": "code",
   "execution_count": 11,
   "metadata": {},
   "outputs": [
    {
     "data": {
      "text/plain": [
       "str"
      ]
     },
     "execution_count": 11,
     "metadata": {},
     "output_type": "execute_result"
    }
   ],
   "source": [
    "type(s2.values[0])"
   ]
  },
  {
   "cell_type": "code",
   "execution_count": 12,
   "metadata": {},
   "outputs": [
    {
     "data": {
      "text/plain": [
       "(4,)"
      ]
     },
     "execution_count": 12,
     "metadata": {},
     "output_type": "execute_result"
    }
   ],
   "source": [
    "s2.shape"
   ]
  },
  {
   "cell_type": "code",
   "execution_count": 13,
   "metadata": {},
   "outputs": [
    {
     "data": {
      "text/plain": [
       "4"
      ]
     },
     "execution_count": 13,
     "metadata": {},
     "output_type": "execute_result"
    }
   ],
   "source": [
    "s2.size"
   ]
  },
  {
   "cell_type": "code",
   "execution_count": 14,
   "metadata": {},
   "outputs": [],
   "source": [
    "# 创建一个DataFrame\n",
    "d1= {\n",
    "   \"作者\": pd.Series(['余华','残雪','莫言']), \n",
    "   \"作品\": pd.Series(['活着','暗夜','红高粱']), \n",
    "   \"价格\": pd.Series([35,72,38]),\n",
    "     }\n",
    "df2 = pd.DataFrame(d1)\n",
    "\n"
   ]
  },
  {
   "cell_type": "code",
   "execution_count": 15,
   "metadata": {},
   "outputs": [
    {
     "data": {
      "text/plain": [
       "(3, 3)"
      ]
     },
     "execution_count": 15,
     "metadata": {},
     "output_type": "execute_result"
    }
   ],
   "source": [
    "df2.shape"
   ]
  },
  {
   "cell_type": "code",
   "execution_count": 16,
   "metadata": {},
   "outputs": [
    {
     "data": {
      "text/plain": [
       "(3, 3)"
      ]
     },
     "execution_count": 16,
     "metadata": {},
     "output_type": "execute_result"
    }
   ],
   "source": [
    "df2.shape"
   ]
  },
  {
   "cell_type": "code",
   "execution_count": 17,
   "metadata": {},
   "outputs": [
    {
     "data": {
      "text/plain": [
       "9"
      ]
     },
     "execution_count": 17,
     "metadata": {},
     "output_type": "execute_result"
    }
   ],
   "source": [
    "df2.size"
   ]
  },
  {
   "cell_type": "code",
   "execution_count": 18,
   "metadata": {},
   "outputs": [
    {
     "data": {
      "text/plain": [
       "0     活着\n",
       "1     暗夜\n",
       "2    红高粱\n",
       "Name: 作品, dtype: object"
      ]
     },
     "execution_count": 18,
     "metadata": {},
     "output_type": "execute_result"
    }
   ],
   "source": [
    "df2['作品']"
   ]
  },
  {
   "cell_type": "code",
   "execution_count": 19,
   "metadata": {},
   "outputs": [
    {
     "data": {
      "text/html": [
       "<div>\n",
       "<style scoped>\n",
       "    .dataframe tbody tr th:only-of-type {\n",
       "        vertical-align: middle;\n",
       "    }\n",
       "\n",
       "    .dataframe tbody tr th {\n",
       "        vertical-align: top;\n",
       "    }\n",
       "\n",
       "    .dataframe thead th {\n",
       "        text-align: right;\n",
       "    }\n",
       "</style>\n",
       "<table border=\"1\" class=\"dataframe\">\n",
       "  <thead>\n",
       "    <tr style=\"text-align: right;\">\n",
       "      <th></th>\n",
       "      <th>作者</th>\n",
       "      <th>价格</th>\n",
       "    </tr>\n",
       "  </thead>\n",
       "  <tbody>\n",
       "    <tr>\n",
       "      <th>0</th>\n",
       "      <td>余华</td>\n",
       "      <td>35</td>\n",
       "    </tr>\n",
       "    <tr>\n",
       "      <th>1</th>\n",
       "      <td>残雪</td>\n",
       "      <td>72</td>\n",
       "    </tr>\n",
       "    <tr>\n",
       "      <th>2</th>\n",
       "      <td>莫言</td>\n",
       "      <td>38</td>\n",
       "    </tr>\n",
       "  </tbody>\n",
       "</table>\n",
       "</div>"
      ],
      "text/plain": [
       "   作者  价格\n",
       "0  余华  35\n",
       "1  残雪  72\n",
       "2  莫言  38"
      ]
     },
     "execution_count": 19,
     "metadata": {},
     "output_type": "execute_result"
    }
   ],
   "source": [
    "df2[['作者','价格']]"
   ]
  },
  {
   "cell_type": "code",
   "execution_count": 20,
   "metadata": {},
   "outputs": [
    {
     "data": {
      "text/plain": [
       "array([['余华', '活着', 35],\n",
       "       ['残雪', '暗夜', 72],\n",
       "       ['莫言', '红高粱', 38]], dtype=object)"
      ]
     },
     "execution_count": 20,
     "metadata": {},
     "output_type": "execute_result"
    }
   ],
   "source": [
    "df2.values"
   ]
  },
  {
   "cell_type": "code",
   "execution_count": 21,
   "metadata": {},
   "outputs": [],
   "source": [
    "贵州茅台原始数据 = pd.read_csv(R'data\\600519.CSV')"
   ]
  },
  {
   "cell_type": "code",
   "execution_count": 22,
   "metadata": {},
   "outputs": [
    {
     "data": {
      "text/plain": [
       "0        1410347008\n",
       "1         463463008\n",
       "2         194689000\n",
       "3         177558000\n",
       "4          86231000\n",
       "           ...     \n",
       "4089     2694714080\n",
       "4090    10663392512\n",
       "4091     5239853056\n",
       "4092     5581027328\n",
       "4093     5227695104\n",
       "Name: TURNOVER, Length: 4094, dtype: int64"
      ]
     },
     "execution_count": 22,
     "metadata": {},
     "output_type": "execute_result"
    }
   ],
   "source": [
    "# 按列查询数据\n",
    "贵州茅台原始数据['TURNOVER']\n"
   ]
  },
  {
   "cell_type": "code",
   "execution_count": 23,
   "metadata": {},
   "outputs": [
    {
     "data": {
      "text/html": [
       "<div>\n",
       "<style scoped>\n",
       "    .dataframe tbody tr th:only-of-type {\n",
       "        vertical-align: middle;\n",
       "    }\n",
       "\n",
       "    .dataframe tbody tr th {\n",
       "        vertical-align: top;\n",
       "    }\n",
       "\n",
       "    .dataframe thead th {\n",
       "        text-align: right;\n",
       "    }\n",
       "</style>\n",
       "<table border=\"1\" class=\"dataframe\">\n",
       "  <thead>\n",
       "    <tr style=\"text-align: right;\">\n",
       "      <th></th>\n",
       "      <th>TURNOVER</th>\n",
       "      <th>volume</th>\n",
       "    </tr>\n",
       "  </thead>\n",
       "  <tbody>\n",
       "    <tr>\n",
       "      <th>0</th>\n",
       "      <td>1410347008</td>\n",
       "      <td>406318</td>\n",
       "    </tr>\n",
       "    <tr>\n",
       "      <th>1</th>\n",
       "      <td>463463008</td>\n",
       "      <td>129647</td>\n",
       "    </tr>\n",
       "    <tr>\n",
       "      <th>2</th>\n",
       "      <td>194689000</td>\n",
       "      <td>53252</td>\n",
       "    </tr>\n",
       "    <tr>\n",
       "      <th>3</th>\n",
       "      <td>177558000</td>\n",
       "      <td>48013</td>\n",
       "    </tr>\n",
       "    <tr>\n",
       "      <th>4</th>\n",
       "      <td>86231000</td>\n",
       "      <td>23231</td>\n",
       "    </tr>\n",
       "    <tr>\n",
       "      <th>...</th>\n",
       "      <td>...</td>\n",
       "      <td>...</td>\n",
       "    </tr>\n",
       "    <tr>\n",
       "      <th>4089</th>\n",
       "      <td>2694714080</td>\n",
       "      <td>49076</td>\n",
       "    </tr>\n",
       "    <tr>\n",
       "      <th>4090</th>\n",
       "      <td>10663392512</td>\n",
       "      <td>204397</td>\n",
       "    </tr>\n",
       "    <tr>\n",
       "      <th>4091</th>\n",
       "      <td>5239853056</td>\n",
       "      <td>96885</td>\n",
       "    </tr>\n",
       "    <tr>\n",
       "      <th>4092</th>\n",
       "      <td>5581027328</td>\n",
       "      <td>98107</td>\n",
       "    </tr>\n",
       "    <tr>\n",
       "      <th>4093</th>\n",
       "      <td>5227695104</td>\n",
       "      <td>89157</td>\n",
       "    </tr>\n",
       "  </tbody>\n",
       "</table>\n",
       "<p>4094 rows × 2 columns</p>\n",
       "</div>"
      ],
      "text/plain": [
       "         TURNOVER  volume\n",
       "0      1410347008  406318\n",
       "1       463463008  129647\n",
       "2       194689000   53252\n",
       "3       177558000   48013\n",
       "4        86231000   23231\n",
       "...           ...     ...\n",
       "4089   2694714080   49076\n",
       "4090  10663392512  204397\n",
       "4091   5239853056   96885\n",
       "4092   5581027328   98107\n",
       "4093   5227695104   89157\n",
       "\n",
       "[4094 rows x 2 columns]"
      ]
     },
     "execution_count": 23,
     "metadata": {},
     "output_type": "execute_result"
    }
   ],
   "source": [
    "贵州茅台原始数据[['TURNOVER','volume']]"
   ]
  },
  {
   "cell_type": "code",
   "execution_count": 24,
   "metadata": {},
   "outputs": [
    {
     "data": {
      "text/plain": [
       "day           2001-08-27\n",
       "STOCK_CODE       6005191\n",
       "open               34.51\n",
       "close              35.55\n",
       "maximum            37.78\n",
       "minimum            32.85\n",
       "volume            406318\n",
       "TURNOVER      1410347008\n",
       "Name: 0, dtype: object"
      ]
     },
     "execution_count": 24,
     "metadata": {},
     "output_type": "execute_result"
    }
   ],
   "source": [
    "# 按照行索引\n",
    "贵州茅台原始数据.loc[0]"
   ]
  },
  {
   "cell_type": "code",
   "execution_count": 25,
   "metadata": {},
   "outputs": [],
   "source": [
    "贵州茅台 = 贵州茅台原始数据.set_index('day')"
   ]
  },
  {
   "cell_type": "code",
   "execution_count": 26,
   "metadata": {},
   "outputs": [
    {
     "data": {
      "text/plain": [
       "STOCK_CODE    6.005191e+06\n",
       "open          3.451000e+01\n",
       "close         3.555000e+01\n",
       "maximum       3.778000e+01\n",
       "minimum       3.285000e+01\n",
       "volume        4.063180e+05\n",
       "TURNOVER      1.410347e+09\n",
       "Name: 2001-08-27, dtype: float64"
      ]
     },
     "execution_count": 26,
     "metadata": {},
     "output_type": "execute_result"
    }
   ],
   "source": [
    "# loc索引器\n",
    "# 单个元素\n",
    "贵州茅台.loc['2001-08-27']"
   ]
  },
  {
   "cell_type": "code",
   "execution_count": 27,
   "metadata": {},
   "outputs": [
    {
     "data": {
      "text/plain": [
       "close    36.58\n",
       "Name: 2001-10-08, dtype: float64"
      ]
     },
     "execution_count": 27,
     "metadata": {},
     "output_type": "execute_result"
    }
   ],
   "source": [
    "贵州茅台.loc['2001-10-08',['close']]"
   ]
  },
  {
   "cell_type": "code",
   "execution_count": 28,
   "metadata": {},
   "outputs": [
    {
     "data": {
      "text/html": [
       "<div>\n",
       "<style scoped>\n",
       "    .dataframe tbody tr th:only-of-type {\n",
       "        vertical-align: middle;\n",
       "    }\n",
       "\n",
       "    .dataframe tbody tr th {\n",
       "        vertical-align: top;\n",
       "    }\n",
       "\n",
       "    .dataframe thead th {\n",
       "        text-align: right;\n",
       "    }\n",
       "</style>\n",
       "<table border=\"1\" class=\"dataframe\">\n",
       "  <thead>\n",
       "    <tr style=\"text-align: right;\">\n",
       "      <th></th>\n",
       "      <th>STOCK_CODE</th>\n",
       "      <th>open</th>\n",
       "      <th>close</th>\n",
       "      <th>maximum</th>\n",
       "      <th>minimum</th>\n",
       "      <th>volume</th>\n",
       "      <th>TURNOVER</th>\n",
       "    </tr>\n",
       "    <tr>\n",
       "      <th>day</th>\n",
       "      <th></th>\n",
       "      <th></th>\n",
       "      <th></th>\n",
       "      <th></th>\n",
       "      <th></th>\n",
       "      <th></th>\n",
       "      <th></th>\n",
       "    </tr>\n",
       "  </thead>\n",
       "  <tbody>\n",
       "    <tr>\n",
       "      <th>2001-08-27</th>\n",
       "      <td>6005191</td>\n",
       "      <td>34.51</td>\n",
       "      <td>35.55</td>\n",
       "      <td>37.78</td>\n",
       "      <td>32.85</td>\n",
       "      <td>406318</td>\n",
       "      <td>1410347008</td>\n",
       "    </tr>\n",
       "    <tr>\n",
       "      <th>2001-08-28</th>\n",
       "      <td>6005191</td>\n",
       "      <td>34.99</td>\n",
       "      <td>36.86</td>\n",
       "      <td>37.00</td>\n",
       "      <td>34.61</td>\n",
       "      <td>129647</td>\n",
       "      <td>463463008</td>\n",
       "    </tr>\n",
       "    <tr>\n",
       "      <th>2001-08-29</th>\n",
       "      <td>6005191</td>\n",
       "      <td>36.98</td>\n",
       "      <td>36.38</td>\n",
       "      <td>37.00</td>\n",
       "      <td>36.10</td>\n",
       "      <td>53252</td>\n",
       "      <td>194689000</td>\n",
       "    </tr>\n",
       "    <tr>\n",
       "      <th>2001-08-30</th>\n",
       "      <td>6005191</td>\n",
       "      <td>36.28</td>\n",
       "      <td>37.10</td>\n",
       "      <td>37.51</td>\n",
       "      <td>36.00</td>\n",
       "      <td>48013</td>\n",
       "      <td>177558000</td>\n",
       "    </tr>\n",
       "    <tr>\n",
       "      <th>2001-08-31</th>\n",
       "      <td>6005191</td>\n",
       "      <td>37.15</td>\n",
       "      <td>37.01</td>\n",
       "      <td>37.62</td>\n",
       "      <td>36.80</td>\n",
       "      <td>23231</td>\n",
       "      <td>86231000</td>\n",
       "    </tr>\n",
       "    <tr>\n",
       "      <th>2001-09-03</th>\n",
       "      <td>6005191</td>\n",
       "      <td>37.20</td>\n",
       "      <td>36.99</td>\n",
       "      <td>37.57</td>\n",
       "      <td>36.85</td>\n",
       "      <td>22112</td>\n",
       "      <td>82129000</td>\n",
       "    </tr>\n",
       "    <tr>\n",
       "      <th>2001-09-04</th>\n",
       "      <td>6005191</td>\n",
       "      <td>37.01</td>\n",
       "      <td>37.46</td>\n",
       "      <td>38.08</td>\n",
       "      <td>36.88</td>\n",
       "      <td>37006</td>\n",
       "      <td>139204000</td>\n",
       "    </tr>\n",
       "    <tr>\n",
       "      <th>2001-09-05</th>\n",
       "      <td>6005191</td>\n",
       "      <td>37.61</td>\n",
       "      <td>37.44</td>\n",
       "      <td>37.92</td>\n",
       "      <td>37.21</td>\n",
       "      <td>26066</td>\n",
       "      <td>97796000</td>\n",
       "    </tr>\n",
       "    <tr>\n",
       "      <th>2001-09-06</th>\n",
       "      <td>6005191</td>\n",
       "      <td>37.35</td>\n",
       "      <td>36.70</td>\n",
       "      <td>37.47</td>\n",
       "      <td>36.51</td>\n",
       "      <td>28997</td>\n",
       "      <td>107078000</td>\n",
       "    </tr>\n",
       "    <tr>\n",
       "      <th>2001-09-07</th>\n",
       "      <td>6005191</td>\n",
       "      <td>36.50</td>\n",
       "      <td>35.68</td>\n",
       "      <td>36.95</td>\n",
       "      <td>35.65</td>\n",
       "      <td>31552</td>\n",
       "      <td>113868000</td>\n",
       "    </tr>\n",
       "    <tr>\n",
       "      <th>2001-09-10</th>\n",
       "      <td>6005191</td>\n",
       "      <td>35.40</td>\n",
       "      <td>36.70</td>\n",
       "      <td>36.85</td>\n",
       "      <td>35.01</td>\n",
       "      <td>18878</td>\n",
       "      <td>68406000</td>\n",
       "    </tr>\n",
       "    <tr>\n",
       "      <th>2001-09-11</th>\n",
       "      <td>6005191</td>\n",
       "      <td>36.80</td>\n",
       "      <td>36.29</td>\n",
       "      <td>36.95</td>\n",
       "      <td>36.20</td>\n",
       "      <td>11390</td>\n",
       "      <td>41579000</td>\n",
       "    </tr>\n",
       "    <tr>\n",
       "      <th>2001-09-12</th>\n",
       "      <td>6005191</td>\n",
       "      <td>35.33</td>\n",
       "      <td>35.98</td>\n",
       "      <td>36.20</td>\n",
       "      <td>35.30</td>\n",
       "      <td>25045</td>\n",
       "      <td>89421000</td>\n",
       "    </tr>\n",
       "    <tr>\n",
       "      <th>2001-09-13</th>\n",
       "      <td>6005191</td>\n",
       "      <td>36.01</td>\n",
       "      <td>35.89</td>\n",
       "      <td>36.30</td>\n",
       "      <td>35.70</td>\n",
       "      <td>10986</td>\n",
       "      <td>39512000</td>\n",
       "    </tr>\n",
       "    <tr>\n",
       "      <th>2001-09-14</th>\n",
       "      <td>6005191</td>\n",
       "      <td>36.01</td>\n",
       "      <td>36.30</td>\n",
       "      <td>36.50</td>\n",
       "      <td>35.80</td>\n",
       "      <td>7672</td>\n",
       "      <td>27740000</td>\n",
       "    </tr>\n",
       "    <tr>\n",
       "      <th>2001-09-17</th>\n",
       "      <td>6005191</td>\n",
       "      <td>36.08</td>\n",
       "      <td>35.84</td>\n",
       "      <td>36.29</td>\n",
       "      <td>35.50</td>\n",
       "      <td>8983</td>\n",
       "      <td>32183000</td>\n",
       "    </tr>\n",
       "    <tr>\n",
       "      <th>2001-09-18</th>\n",
       "      <td>6005191</td>\n",
       "      <td>35.88</td>\n",
       "      <td>36.25</td>\n",
       "      <td>36.55</td>\n",
       "      <td>35.85</td>\n",
       "      <td>10773</td>\n",
       "      <td>39006000</td>\n",
       "    </tr>\n",
       "    <tr>\n",
       "      <th>2001-09-19</th>\n",
       "      <td>6005191</td>\n",
       "      <td>36.30</td>\n",
       "      <td>36.92</td>\n",
       "      <td>36.92</td>\n",
       "      <td>36.06</td>\n",
       "      <td>8650</td>\n",
       "      <td>31597000</td>\n",
       "    </tr>\n",
       "    <tr>\n",
       "      <th>2001-09-20</th>\n",
       "      <td>6005191</td>\n",
       "      <td>36.90</td>\n",
       "      <td>36.61</td>\n",
       "      <td>37.05</td>\n",
       "      <td>36.50</td>\n",
       "      <td>11173</td>\n",
       "      <td>41189000</td>\n",
       "    </tr>\n",
       "    <tr>\n",
       "      <th>2001-09-21</th>\n",
       "      <td>6005191</td>\n",
       "      <td>36.28</td>\n",
       "      <td>36.06</td>\n",
       "      <td>36.60</td>\n",
       "      <td>36.00</td>\n",
       "      <td>7879</td>\n",
       "      <td>28638000</td>\n",
       "    </tr>\n",
       "    <tr>\n",
       "      <th>2001-09-24</th>\n",
       "      <td>6005191</td>\n",
       "      <td>36.06</td>\n",
       "      <td>36.05</td>\n",
       "      <td>36.39</td>\n",
       "      <td>36.00</td>\n",
       "      <td>4068</td>\n",
       "      <td>14703000</td>\n",
       "    </tr>\n",
       "    <tr>\n",
       "      <th>2001-09-25</th>\n",
       "      <td>6005191</td>\n",
       "      <td>36.28</td>\n",
       "      <td>36.23</td>\n",
       "      <td>36.54</td>\n",
       "      <td>36.05</td>\n",
       "      <td>3488</td>\n",
       "      <td>12639000</td>\n",
       "    </tr>\n",
       "    <tr>\n",
       "      <th>2001-09-26</th>\n",
       "      <td>6005191</td>\n",
       "      <td>36.11</td>\n",
       "      <td>36.08</td>\n",
       "      <td>36.48</td>\n",
       "      <td>36.00</td>\n",
       "      <td>4956</td>\n",
       "      <td>17892000</td>\n",
       "    </tr>\n",
       "    <tr>\n",
       "      <th>2001-09-27</th>\n",
       "      <td>6005191</td>\n",
       "      <td>36.08</td>\n",
       "      <td>36.70</td>\n",
       "      <td>36.98</td>\n",
       "      <td>36.00</td>\n",
       "      <td>8778</td>\n",
       "      <td>32085000</td>\n",
       "    </tr>\n",
       "    <tr>\n",
       "      <th>2001-09-28</th>\n",
       "      <td>6005191</td>\n",
       "      <td>36.90</td>\n",
       "      <td>37.09</td>\n",
       "      <td>37.20</td>\n",
       "      <td>36.50</td>\n",
       "      <td>17088</td>\n",
       "      <td>63169000</td>\n",
       "    </tr>\n",
       "    <tr>\n",
       "      <th>2001-10-08</th>\n",
       "      <td>6005191</td>\n",
       "      <td>37.00</td>\n",
       "      <td>36.58</td>\n",
       "      <td>37.18</td>\n",
       "      <td>36.25</td>\n",
       "      <td>6552</td>\n",
       "      <td>24091000</td>\n",
       "    </tr>\n",
       "  </tbody>\n",
       "</table>\n",
       "</div>"
      ],
      "text/plain": [
       "            STOCK_CODE   open  close  maximum  minimum  volume    TURNOVER\n",
       "day                                                                       \n",
       "2001-08-27     6005191  34.51  35.55    37.78    32.85  406318  1410347008\n",
       "2001-08-28     6005191  34.99  36.86    37.00    34.61  129647   463463008\n",
       "2001-08-29     6005191  36.98  36.38    37.00    36.10   53252   194689000\n",
       "2001-08-30     6005191  36.28  37.10    37.51    36.00   48013   177558000\n",
       "2001-08-31     6005191  37.15  37.01    37.62    36.80   23231    86231000\n",
       "2001-09-03     6005191  37.20  36.99    37.57    36.85   22112    82129000\n",
       "2001-09-04     6005191  37.01  37.46    38.08    36.88   37006   139204000\n",
       "2001-09-05     6005191  37.61  37.44    37.92    37.21   26066    97796000\n",
       "2001-09-06     6005191  37.35  36.70    37.47    36.51   28997   107078000\n",
       "2001-09-07     6005191  36.50  35.68    36.95    35.65   31552   113868000\n",
       "2001-09-10     6005191  35.40  36.70    36.85    35.01   18878    68406000\n",
       "2001-09-11     6005191  36.80  36.29    36.95    36.20   11390    41579000\n",
       "2001-09-12     6005191  35.33  35.98    36.20    35.30   25045    89421000\n",
       "2001-09-13     6005191  36.01  35.89    36.30    35.70   10986    39512000\n",
       "2001-09-14     6005191  36.01  36.30    36.50    35.80    7672    27740000\n",
       "2001-09-17     6005191  36.08  35.84    36.29    35.50    8983    32183000\n",
       "2001-09-18     6005191  35.88  36.25    36.55    35.85   10773    39006000\n",
       "2001-09-19     6005191  36.30  36.92    36.92    36.06    8650    31597000\n",
       "2001-09-20     6005191  36.90  36.61    37.05    36.50   11173    41189000\n",
       "2001-09-21     6005191  36.28  36.06    36.60    36.00    7879    28638000\n",
       "2001-09-24     6005191  36.06  36.05    36.39    36.00    4068    14703000\n",
       "2001-09-25     6005191  36.28  36.23    36.54    36.05    3488    12639000\n",
       "2001-09-26     6005191  36.11  36.08    36.48    36.00    4956    17892000\n",
       "2001-09-27     6005191  36.08  36.70    36.98    36.00    8778    32085000\n",
       "2001-09-28     6005191  36.90  37.09    37.20    36.50   17088    63169000\n",
       "2001-10-08     6005191  37.00  36.58    37.18    36.25    6552    24091000"
      ]
     },
     "execution_count": 28,
     "metadata": {},
     "output_type": "execute_result"
    }
   ],
   "source": [
    "贵州茅台.loc['2001-08-27':'2001-10-08']"
   ]
  },
  {
   "cell_type": "code",
   "execution_count": 29,
   "metadata": {},
   "outputs": [
    {
     "data": {
      "text/html": [
       "<div>\n",
       "<style scoped>\n",
       "    .dataframe tbody tr th:only-of-type {\n",
       "        vertical-align: middle;\n",
       "    }\n",
       "\n",
       "    .dataframe tbody tr th {\n",
       "        vertical-align: top;\n",
       "    }\n",
       "\n",
       "    .dataframe thead th {\n",
       "        text-align: right;\n",
       "    }\n",
       "</style>\n",
       "<table border=\"1\" class=\"dataframe\">\n",
       "  <thead>\n",
       "    <tr style=\"text-align: right;\">\n",
       "      <th></th>\n",
       "      <th>STOCK_CODE</th>\n",
       "      <th>open</th>\n",
       "      <th>close</th>\n",
       "      <th>maximum</th>\n",
       "      <th>minimum</th>\n",
       "      <th>volume</th>\n",
       "      <th>TURNOVER</th>\n",
       "    </tr>\n",
       "    <tr>\n",
       "      <th>day</th>\n",
       "      <th></th>\n",
       "      <th></th>\n",
       "      <th></th>\n",
       "      <th></th>\n",
       "      <th></th>\n",
       "      <th></th>\n",
       "      <th></th>\n",
       "    </tr>\n",
       "  </thead>\n",
       "  <tbody>\n",
       "    <tr>\n",
       "      <th>2001-10-17</th>\n",
       "      <td>6005191</td>\n",
       "      <td>34.79</td>\n",
       "      <td>34.20</td>\n",
       "      <td>34.81</td>\n",
       "      <td>33.90</td>\n",
       "      <td>12507</td>\n",
       "      <td>42766000</td>\n",
       "    </tr>\n",
       "    <tr>\n",
       "      <th>2001-10-18</th>\n",
       "      <td>6005191</td>\n",
       "      <td>34.20</td>\n",
       "      <td>34.04</td>\n",
       "      <td>34.66</td>\n",
       "      <td>33.91</td>\n",
       "      <td>4983</td>\n",
       "      <td>16999000</td>\n",
       "    </tr>\n",
       "    <tr>\n",
       "      <th>2001-10-19</th>\n",
       "      <td>6005191</td>\n",
       "      <td>34.00</td>\n",
       "      <td>33.50</td>\n",
       "      <td>34.15</td>\n",
       "      <td>33.01</td>\n",
       "      <td>15687</td>\n",
       "      <td>52422000</td>\n",
       "    </tr>\n",
       "    <tr>\n",
       "      <th>2001-10-22</th>\n",
       "      <td>6005191</td>\n",
       "      <td>33.30</td>\n",
       "      <td>32.79</td>\n",
       "      <td>33.70</td>\n",
       "      <td>32.70</td>\n",
       "      <td>9760</td>\n",
       "      <td>32268000</td>\n",
       "    </tr>\n",
       "    <tr>\n",
       "      <th>2001-11-08</th>\n",
       "      <td>6005191</td>\n",
       "      <td>33.35</td>\n",
       "      <td>33.70</td>\n",
       "      <td>33.89</td>\n",
       "      <td>32.98</td>\n",
       "      <td>7402</td>\n",
       "      <td>24682000</td>\n",
       "    </tr>\n",
       "    <tr>\n",
       "      <th>...</th>\n",
       "      <td>...</td>\n",
       "      <td>...</td>\n",
       "      <td>...</td>\n",
       "      <td>...</td>\n",
       "      <td>...</td>\n",
       "      <td>...</td>\n",
       "      <td>...</td>\n",
       "    </tr>\n",
       "    <tr>\n",
       "      <th>2004-09-21</th>\n",
       "      <td>6005191</td>\n",
       "      <td>32.09</td>\n",
       "      <td>32.30</td>\n",
       "      <td>32.98</td>\n",
       "      <td>32.09</td>\n",
       "      <td>8374</td>\n",
       "      <td>27222818</td>\n",
       "    </tr>\n",
       "    <tr>\n",
       "      <th>2004-09-22</th>\n",
       "      <td>6005191</td>\n",
       "      <td>32.03</td>\n",
       "      <td>32.16</td>\n",
       "      <td>32.49</td>\n",
       "      <td>32.03</td>\n",
       "      <td>4348</td>\n",
       "      <td>13965168</td>\n",
       "    </tr>\n",
       "    <tr>\n",
       "      <th>2004-09-23</th>\n",
       "      <td>6005191</td>\n",
       "      <td>32.11</td>\n",
       "      <td>33.42</td>\n",
       "      <td>33.52</td>\n",
       "      <td>32.11</td>\n",
       "      <td>17667</td>\n",
       "      <td>58219692</td>\n",
       "    </tr>\n",
       "    <tr>\n",
       "      <th>2004-09-24</th>\n",
       "      <td>6005191</td>\n",
       "      <td>33.60</td>\n",
       "      <td>34.49</td>\n",
       "      <td>35.89</td>\n",
       "      <td>33.60</td>\n",
       "      <td>30981</td>\n",
       "      <td>108295826</td>\n",
       "    </tr>\n",
       "    <tr>\n",
       "      <th>2004-09-27</th>\n",
       "      <td>6005191</td>\n",
       "      <td>34.95</td>\n",
       "      <td>34.93</td>\n",
       "      <td>35.98</td>\n",
       "      <td>34.50</td>\n",
       "      <td>6067</td>\n",
       "      <td>21339456</td>\n",
       "    </tr>\n",
       "  </tbody>\n",
       "</table>\n",
       "<p>498 rows × 7 columns</p>\n",
       "</div>"
      ],
      "text/plain": [
       "            STOCK_CODE   open  close  maximum  minimum  volume   TURNOVER\n",
       "day                                                                      \n",
       "2001-10-17     6005191  34.79  34.20    34.81    33.90   12507   42766000\n",
       "2001-10-18     6005191  34.20  34.04    34.66    33.91    4983   16999000\n",
       "2001-10-19     6005191  34.00  33.50    34.15    33.01   15687   52422000\n",
       "2001-10-22     6005191  33.30  32.79    33.70    32.70    9760   32268000\n",
       "2001-11-08     6005191  33.35  33.70    33.89    32.98    7402   24682000\n",
       "...                ...    ...    ...      ...      ...     ...        ...\n",
       "2004-09-21     6005191  32.09  32.30    32.98    32.09    8374   27222818\n",
       "2004-09-22     6005191  32.03  32.16    32.49    32.03    4348   13965168\n",
       "2004-09-23     6005191  32.11  33.42    33.52    32.11   17667   58219692\n",
       "2004-09-24     6005191  33.60  34.49    35.89    33.60   30981  108295826\n",
       "2004-09-27     6005191  34.95  34.93    35.98    34.50    6067   21339456\n",
       "\n",
       "[498 rows x 7 columns]"
      ]
     },
     "execution_count": 29,
     "metadata": {},
     "output_type": "execute_result"
    }
   ],
   "source": [
    "条件1 = 贵州茅台['open'] < 35\n",
    "条件2 = 贵州茅台['close'] < 35\n",
    "布尔列表 = 条件1 & 条件2\n",
    "贵州茅台.loc[布尔列表]"
   ]
  },
  {
   "cell_type": "code",
   "execution_count": 30,
   "metadata": {},
   "outputs": [],
   "source": [
    "# 使用函数作为索引\n",
    "def condition(pd):\n",
    "    条件1 = 贵州茅台['open'] < 35\n",
    "    条件2 = 贵州茅台['close'] < 35\n",
    "    布尔列表 = 条件1 & 条件2\n",
    "    return 布尔列表"
   ]
  },
  {
   "cell_type": "code",
   "execution_count": 31,
   "metadata": {},
   "outputs": [
    {
     "data": {
      "text/html": [
       "<div>\n",
       "<style scoped>\n",
       "    .dataframe tbody tr th:only-of-type {\n",
       "        vertical-align: middle;\n",
       "    }\n",
       "\n",
       "    .dataframe tbody tr th {\n",
       "        vertical-align: top;\n",
       "    }\n",
       "\n",
       "    .dataframe thead th {\n",
       "        text-align: right;\n",
       "    }\n",
       "</style>\n",
       "<table border=\"1\" class=\"dataframe\">\n",
       "  <thead>\n",
       "    <tr style=\"text-align: right;\">\n",
       "      <th></th>\n",
       "      <th>STOCK_CODE</th>\n",
       "      <th>open</th>\n",
       "      <th>close</th>\n",
       "      <th>maximum</th>\n",
       "      <th>minimum</th>\n",
       "      <th>volume</th>\n",
       "      <th>TURNOVER</th>\n",
       "    </tr>\n",
       "    <tr>\n",
       "      <th>day</th>\n",
       "      <th></th>\n",
       "      <th></th>\n",
       "      <th></th>\n",
       "      <th></th>\n",
       "      <th></th>\n",
       "      <th></th>\n",
       "      <th></th>\n",
       "    </tr>\n",
       "  </thead>\n",
       "  <tbody>\n",
       "    <tr>\n",
       "      <th>2001-10-17</th>\n",
       "      <td>6005191</td>\n",
       "      <td>34.79</td>\n",
       "      <td>34.20</td>\n",
       "      <td>34.81</td>\n",
       "      <td>33.90</td>\n",
       "      <td>12507</td>\n",
       "      <td>42766000</td>\n",
       "    </tr>\n",
       "    <tr>\n",
       "      <th>2001-10-18</th>\n",
       "      <td>6005191</td>\n",
       "      <td>34.20</td>\n",
       "      <td>34.04</td>\n",
       "      <td>34.66</td>\n",
       "      <td>33.91</td>\n",
       "      <td>4983</td>\n",
       "      <td>16999000</td>\n",
       "    </tr>\n",
       "    <tr>\n",
       "      <th>2001-10-19</th>\n",
       "      <td>6005191</td>\n",
       "      <td>34.00</td>\n",
       "      <td>33.50</td>\n",
       "      <td>34.15</td>\n",
       "      <td>33.01</td>\n",
       "      <td>15687</td>\n",
       "      <td>52422000</td>\n",
       "    </tr>\n",
       "    <tr>\n",
       "      <th>2001-10-22</th>\n",
       "      <td>6005191</td>\n",
       "      <td>33.30</td>\n",
       "      <td>32.79</td>\n",
       "      <td>33.70</td>\n",
       "      <td>32.70</td>\n",
       "      <td>9760</td>\n",
       "      <td>32268000</td>\n",
       "    </tr>\n",
       "    <tr>\n",
       "      <th>2001-11-08</th>\n",
       "      <td>6005191</td>\n",
       "      <td>33.35</td>\n",
       "      <td>33.70</td>\n",
       "      <td>33.89</td>\n",
       "      <td>32.98</td>\n",
       "      <td>7402</td>\n",
       "      <td>24682000</td>\n",
       "    </tr>\n",
       "    <tr>\n",
       "      <th>...</th>\n",
       "      <td>...</td>\n",
       "      <td>...</td>\n",
       "      <td>...</td>\n",
       "      <td>...</td>\n",
       "      <td>...</td>\n",
       "      <td>...</td>\n",
       "      <td>...</td>\n",
       "    </tr>\n",
       "    <tr>\n",
       "      <th>2004-09-21</th>\n",
       "      <td>6005191</td>\n",
       "      <td>32.09</td>\n",
       "      <td>32.30</td>\n",
       "      <td>32.98</td>\n",
       "      <td>32.09</td>\n",
       "      <td>8374</td>\n",
       "      <td>27222818</td>\n",
       "    </tr>\n",
       "    <tr>\n",
       "      <th>2004-09-22</th>\n",
       "      <td>6005191</td>\n",
       "      <td>32.03</td>\n",
       "      <td>32.16</td>\n",
       "      <td>32.49</td>\n",
       "      <td>32.03</td>\n",
       "      <td>4348</td>\n",
       "      <td>13965168</td>\n",
       "    </tr>\n",
       "    <tr>\n",
       "      <th>2004-09-23</th>\n",
       "      <td>6005191</td>\n",
       "      <td>32.11</td>\n",
       "      <td>33.42</td>\n",
       "      <td>33.52</td>\n",
       "      <td>32.11</td>\n",
       "      <td>17667</td>\n",
       "      <td>58219692</td>\n",
       "    </tr>\n",
       "    <tr>\n",
       "      <th>2004-09-24</th>\n",
       "      <td>6005191</td>\n",
       "      <td>33.60</td>\n",
       "      <td>34.49</td>\n",
       "      <td>35.89</td>\n",
       "      <td>33.60</td>\n",
       "      <td>30981</td>\n",
       "      <td>108295826</td>\n",
       "    </tr>\n",
       "    <tr>\n",
       "      <th>2004-09-27</th>\n",
       "      <td>6005191</td>\n",
       "      <td>34.95</td>\n",
       "      <td>34.93</td>\n",
       "      <td>35.98</td>\n",
       "      <td>34.50</td>\n",
       "      <td>6067</td>\n",
       "      <td>21339456</td>\n",
       "    </tr>\n",
       "  </tbody>\n",
       "</table>\n",
       "<p>498 rows × 7 columns</p>\n",
       "</div>"
      ],
      "text/plain": [
       "            STOCK_CODE   open  close  maximum  minimum  volume   TURNOVER\n",
       "day                                                                      \n",
       "2001-10-17     6005191  34.79  34.20    34.81    33.90   12507   42766000\n",
       "2001-10-18     6005191  34.20  34.04    34.66    33.91    4983   16999000\n",
       "2001-10-19     6005191  34.00  33.50    34.15    33.01   15687   52422000\n",
       "2001-10-22     6005191  33.30  32.79    33.70    32.70    9760   32268000\n",
       "2001-11-08     6005191  33.35  33.70    33.89    32.98    7402   24682000\n",
       "...                ...    ...    ...      ...      ...     ...        ...\n",
       "2004-09-21     6005191  32.09  32.30    32.98    32.09    8374   27222818\n",
       "2004-09-22     6005191  32.03  32.16    32.49    32.03    4348   13965168\n",
       "2004-09-23     6005191  32.11  33.42    33.52    32.11   17667   58219692\n",
       "2004-09-24     6005191  33.60  34.49    35.89    33.60   30981  108295826\n",
       "2004-09-27     6005191  34.95  34.93    35.98    34.50    6067   21339456\n",
       "\n",
       "[498 rows x 7 columns]"
      ]
     },
     "execution_count": 31,
     "metadata": {},
     "output_type": "execute_result"
    }
   ],
   "source": [
    "贵州茅台.loc[condition]"
   ]
  },
  {
   "cell_type": "code",
   "execution_count": 32,
   "metadata": {},
   "outputs": [
    {
     "data": {
      "text/plain": [
       "(            STOCK_CODE   open  close  maximum  minimum  volume   TURNOVER\n",
       " day                                                                      \n",
       " 2001-10-17     6005191  34.79  34.20    34.81    33.90   12507   42766000\n",
       " 2001-10-18     6005191  34.20  34.04    34.66    33.91    4983   16999000\n",
       " 2001-10-19     6005191  34.00  33.50    34.15    33.01   15687   52422000\n",
       " 2001-10-22     6005191  33.30  32.79    33.70    32.70    9760   32268000\n",
       " 2001-11-08     6005191  33.35  33.70    33.89    32.98    7402   24682000\n",
       " ...                ...    ...    ...      ...      ...     ...        ...\n",
       " 2004-09-21     6005191  32.09  32.30    32.98    32.09    8374   27222818\n",
       " 2004-09-22     6005191  32.03  32.16    32.49    32.03    4348   13965168\n",
       " 2004-09-23     6005191  32.11  33.42    33.52    32.11   17667   58219692\n",
       " 2004-09-24     6005191  33.60  34.49    35.89    33.60   30981  108295826\n",
       " 2004-09-27     6005191  34.95  34.93    35.98    34.50    6067   21339456\n",
       " \n",
       " [498 rows x 7 columns],\n",
       " [['open', 'close']])"
      ]
     },
     "execution_count": 32,
     "metadata": {},
     "output_type": "execute_result"
    }
   ],
   "source": [
    "贵州茅台.query('open<35 and close <35'),[['open','close']]"
   ]
  },
  {
   "cell_type": "code",
   "execution_count": 33,
   "metadata": {},
   "outputs": [
    {
     "data": {
      "text/html": [
       "<div>\n",
       "<style scoped>\n",
       "    .dataframe tbody tr th:only-of-type {\n",
       "        vertical-align: middle;\n",
       "    }\n",
       "\n",
       "    .dataframe tbody tr th {\n",
       "        vertical-align: top;\n",
       "    }\n",
       "\n",
       "    .dataframe thead th {\n",
       "        text-align: right;\n",
       "    }\n",
       "</style>\n",
       "<table border=\"1\" class=\"dataframe\">\n",
       "  <thead>\n",
       "    <tr style=\"text-align: right;\">\n",
       "      <th></th>\n",
       "      <th>STOCK_CODE</th>\n",
       "      <th>open</th>\n",
       "      <th>close</th>\n",
       "      <th>maximum</th>\n",
       "      <th>minimum</th>\n",
       "      <th>volume</th>\n",
       "      <th>TURNOVER</th>\n",
       "    </tr>\n",
       "    <tr>\n",
       "      <th>day</th>\n",
       "      <th></th>\n",
       "      <th></th>\n",
       "      <th></th>\n",
       "      <th></th>\n",
       "      <th></th>\n",
       "      <th></th>\n",
       "      <th></th>\n",
       "    </tr>\n",
       "  </thead>\n",
       "  <tbody>\n",
       "    <tr>\n",
       "      <th>2011-11-15</th>\n",
       "      <td>6005191</td>\n",
       "      <td>207.60</td>\n",
       "      <td>203.93</td>\n",
       "      <td>207.95</td>\n",
       "      <td>203.00</td>\n",
       "      <td>17782</td>\n",
       "      <td>364242672</td>\n",
       "    </tr>\n",
       "    <tr>\n",
       "      <th>2018-10-10</th>\n",
       "      <td>6005191</td>\n",
       "      <td>697.26</td>\n",
       "      <td>670.92</td>\n",
       "      <td>698.00</td>\n",
       "      <td>669.69</td>\n",
       "      <td>63098</td>\n",
       "      <td>4288785952</td>\n",
       "    </tr>\n",
       "    <tr>\n",
       "      <th>2012-01-05</th>\n",
       "      <td>6005191</td>\n",
       "      <td>184.00</td>\n",
       "      <td>183.15</td>\n",
       "      <td>185.20</td>\n",
       "      <td>182.36</td>\n",
       "      <td>30123</td>\n",
       "      <td>553347008</td>\n",
       "    </tr>\n",
       "    <tr>\n",
       "      <th>2017-05-04</th>\n",
       "      <td>6005191</td>\n",
       "      <td>414.63</td>\n",
       "      <td>416.00</td>\n",
       "      <td>418.48</td>\n",
       "      <td>414.63</td>\n",
       "      <td>26709</td>\n",
       "      <td>1111200112</td>\n",
       "    </tr>\n",
       "    <tr>\n",
       "      <th>2015-08-06</th>\n",
       "      <td>6005191</td>\n",
       "      <td>206.23</td>\n",
       "      <td>204.96</td>\n",
       "      <td>207.50</td>\n",
       "      <td>203.00</td>\n",
       "      <td>39250</td>\n",
       "      <td>805358560</td>\n",
       "    </tr>\n",
       "    <tr>\n",
       "      <th>2016-04-22</th>\n",
       "      <td>6005191</td>\n",
       "      <td>241.00</td>\n",
       "      <td>247.40</td>\n",
       "      <td>247.88</td>\n",
       "      <td>240.37</td>\n",
       "      <td>35459</td>\n",
       "      <td>869560464</td>\n",
       "    </tr>\n",
       "    <tr>\n",
       "      <th>2006-01-20</th>\n",
       "      <td>6005191</td>\n",
       "      <td>46.10</td>\n",
       "      <td>45.98</td>\n",
       "      <td>46.35</td>\n",
       "      <td>45.36</td>\n",
       "      <td>14216</td>\n",
       "      <td>65092507</td>\n",
       "    </tr>\n",
       "    <tr>\n",
       "      <th>2013-01-28</th>\n",
       "      <td>6005191</td>\n",
       "      <td>186.00</td>\n",
       "      <td>178.50</td>\n",
       "      <td>187.80</td>\n",
       "      <td>178.00</td>\n",
       "      <td>158291</td>\n",
       "      <td>2857092944</td>\n",
       "    </tr>\n",
       "    <tr>\n",
       "      <th>2012-07-13</th>\n",
       "      <td>6005191</td>\n",
       "      <td>255.67</td>\n",
       "      <td>262.70</td>\n",
       "      <td>264.00</td>\n",
       "      <td>255.30</td>\n",
       "      <td>29548</td>\n",
       "      <td>769107552</td>\n",
       "    </tr>\n",
       "    <tr>\n",
       "      <th>2003-07-11</th>\n",
       "      <td>6005191</td>\n",
       "      <td>25.68</td>\n",
       "      <td>25.70</td>\n",
       "      <td>25.88</td>\n",
       "      <td>25.59</td>\n",
       "      <td>5764</td>\n",
       "      <td>14825594</td>\n",
       "    </tr>\n",
       "  </tbody>\n",
       "</table>\n",
       "</div>"
      ],
      "text/plain": [
       "            STOCK_CODE    open   close  maximum  minimum  volume    TURNOVER\n",
       "day                                                                         \n",
       "2011-11-15     6005191  207.60  203.93   207.95   203.00   17782   364242672\n",
       "2018-10-10     6005191  697.26  670.92   698.00   669.69   63098  4288785952\n",
       "2012-01-05     6005191  184.00  183.15   185.20   182.36   30123   553347008\n",
       "2017-05-04     6005191  414.63  416.00   418.48   414.63   26709  1111200112\n",
       "2015-08-06     6005191  206.23  204.96   207.50   203.00   39250   805358560\n",
       "2016-04-22     6005191  241.00  247.40   247.88   240.37   35459   869560464\n",
       "2006-01-20     6005191   46.10   45.98    46.35    45.36   14216    65092507\n",
       "2013-01-28     6005191  186.00  178.50   187.80   178.00  158291  2857092944\n",
       "2012-07-13     6005191  255.67  262.70   264.00   255.30   29548   769107552\n",
       "2003-07-11     6005191   25.68   25.70    25.88    25.59    5764    14825594"
      ]
     },
     "execution_count": 33,
     "metadata": {},
     "output_type": "execute_result"
    }
   ],
   "source": [
    "贵州茅台.sample(10)"
   ]
  },
  {
   "cell_type": "code",
   "execution_count": 34,
   "metadata": {},
   "outputs": [
    {
     "name": "stdout",
     "output_type": "stream",
     "text": [
      "<class 'pandas.core.frame.DataFrame'>\n",
      "Index: 4094 entries, 2001-08-27 to 2018-11-02\n",
      "Data columns (total 7 columns):\n",
      " #   Column      Non-Null Count  Dtype  \n",
      "---  ------      --------------  -----  \n",
      " 0   STOCK_CODE  4094 non-null   int64  \n",
      " 1   open        4094 non-null   float64\n",
      " 2   close       4094 non-null   float64\n",
      " 3   maximum     4094 non-null   float64\n",
      " 4   minimum     4094 non-null   float64\n",
      " 5   volume      4094 non-null   int64  \n",
      " 6   TURNOVER    4094 non-null   int64  \n",
      "dtypes: float64(4), int64(3)\n",
      "memory usage: 384.9+ KB\n"
     ]
    }
   ],
   "source": [
    "贵州茅台.info()"
   ]
  },
  {
   "cell_type": "code",
   "execution_count": 35,
   "metadata": {},
   "outputs": [
    {
     "data": {
      "text/plain": [
       "count    4094.000000\n",
       "mean      182.161910\n",
       "std       165.857882\n",
       "min        20.900000\n",
       "25%        47.405000\n",
       "50%       159.930000\n",
       "75%       208.500000\n",
       "max       800.000000\n",
       "Name: open, dtype: float64"
      ]
     },
     "execution_count": 35,
     "metadata": {},
     "output_type": "execute_result"
    }
   ],
   "source": [
    "贵州茅台['open'].describe()"
   ]
  },
  {
   "cell_type": "code",
   "execution_count": 36,
   "metadata": {},
   "outputs": [
    {
     "data": {
      "text/plain": [
       "array([ 34.51,  34.99,  36.98, ..., 527.  , 555.  , 585.  ])"
      ]
     },
     "execution_count": 36,
     "metadata": {},
     "output_type": "execute_result"
    }
   ],
   "source": [
    "贵州茅台['open'].unique()"
   ]
  },
  {
   "cell_type": "code",
   "execution_count": 37,
   "metadata": {},
   "outputs": [],
   "source": [
    "result = 贵州茅台['open'].unique"
   ]
  },
  {
   "cell_type": "code",
   "execution_count": 38,
   "metadata": {},
   "outputs": [],
   "source": [
    "result2 = 贵州茅台['open'].nunique()"
   ]
  },
  {
   "cell_type": "code",
   "execution_count": 39,
   "metadata": {},
   "outputs": [],
   "source": [
    "result3 = 贵州茅台['open'].value_counts()"
   ]
  },
  {
   "cell_type": "code",
   "execution_count": 40,
   "metadata": {},
   "outputs": [
    {
     "data": {
      "text/plain": [
       "name\n",
       "A     4\n",
       "B     5\n",
       "c    12\n",
       "Name: value, dtype: int64"
      ]
     },
     "execution_count": 40,
     "metadata": {},
     "output_type": "execute_result"
    }
   ],
   "source": [
    "df = pd.DataFrame({\n",
    "    \"name\": [\"A\", \"B\" ,\"c\" ,\"B\" ,\"c\" ,\"A\" ,\"c\"],\n",
    "    \"value\": [1, 3, 7, 2, 4, 3, 1]  \n",
    "})\n",
    "    \n",
    "df.groupby(\"name\")[\"value\"].sum()"
   ]
  },
  {
   "cell_type": "code",
   "execution_count": null,
   "metadata": {},
   "outputs": [],
   "source": []
  }
 ],
 "metadata": {
  "kernelspec": {
   "display_name": "Python 3",
   "language": "python",
   "name": "python3"
  },
  "language_info": {
   "codemirror_mode": {
    "name": "ipython",
    "version": 3
   },
   "file_extension": ".py",
   "mimetype": "text/x-python",
   "name": "python",
   "nbconvert_exporter": "python",
   "pygments_lexer": "ipython3",
   "version": "3.8.10"
  },
  "orig_nbformat": 4
 },
 "nbformat": 4,
 "nbformat_minor": 2
}
